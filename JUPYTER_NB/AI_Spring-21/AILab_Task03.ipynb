{
 "cells": [
  {
   "cell_type": "markdown",
   "metadata": {
    "id": "U4tabiWLfT2f"
   },
   "source": [
    "# <font color='red'>Artificial Intelligence(LabTask-03)"
   ]
  },
  {
   "cell_type": "code",
   "execution_count": 1,
   "metadata": {
    "colab": {
     "base_uri": "https://localhost:8080/"
    },
    "id": "5QWHU7K0fEjs",
    "outputId": "65bf22a8-b8cc-480e-b532-aaf374119718"
   },
   "outputs": [
    {
     "name": "stdout",
     "output_type": "stream",
     "text": [
      ".....................................................................\n",
      "MENU BAR\n",
      "1.Add couse\n",
      "2.Show course list\n",
      "3.Remove or Unenroll\n",
      "4.Exit\n",
      "\n",
      "Choose your option:1\n",
      ".....................................................................\n",
      "Do you want to add course(Y/N)?:y\n",
      "Enter your course name:AI\n",
      "Your course has been added successfully.\n",
      "\n",
      "Do you want to add course(Y/N)?:y\n",
      "Enter your course name:Math\n",
      "Your course has been added successfully.\n",
      "\n",
      "Do you want to add course(Y/N)?:y\n",
      "Enter your course name:DBMS\n",
      "Your course has been added successfully.\n",
      "\n",
      "Do you want to add course(Y/N)?:y\n",
      "Enter your course name:English\n",
      "Your course has been added successfully.\n",
      "\n",
      "Do you want to add course(Y/N)?:y\n",
      "Enter your course name:Networking\n",
      "Your course has been added successfully.\n",
      "\n",
      "Do you want to add course(Y/N)?:y\n",
      "Enter your course name:Compiler\n",
      "Your course has been added successfully.\n",
      "\n",
      "Do you want to add course(Y/N)?:y\n",
      "Enter your course name:Simulation\n",
      "Your course has been added successfully.\n",
      "\n",
      "Do you want to add course(Y/N)?:j\n",
      "Invalid! Try again.\n",
      "Do you want to add course(Y/N)?:y\n",
      "Enter your course name:Biology\n",
      "Your course has been added successfully.\n",
      "\n",
      "Do you want to add course(Y/N)?:n\n",
      ".....................................................................\n",
      "MENU BAR\n",
      "1.Add couse\n",
      "2.Show course list\n",
      "3.Remove or Unenroll\n",
      "4.Exit\n",
      "\n",
      "Choose your option:2\n",
      ".....................................................................\n",
      "Your avilable courses are shown bellow\n",
      "1 ) AI\n",
      "2 ) Math\n",
      "3 ) DBMS\n",
      "4 ) English\n",
      "5 ) Networking\n",
      "6 ) Compiler\n",
      "7 ) Simulation\n",
      "8 ) Biology\n",
      ".....................................................................\n",
      "MENU BAR\n",
      "1.Add couse\n",
      "2.Show course list\n",
      "3.Remove or Unenroll\n",
      "4.Exit\n",
      "\n",
      "Choose your option:3\n",
      ".....................................................................\n",
      "Do you want to remove course(Y/N)?:y\n",
      "Please, Enter removal course name:Biology\n",
      "Biology has been removed successfully.\n",
      "\n",
      "Do you want to remove course(Y/N)?:y\n",
      "Please, Enter removal course name:BBMS\n",
      "Sorry! The course name dose not matched!\n",
      "Do you want to remove course(Y/N)?:y\n",
      "Please, Enter removal course name:DBMS\n",
      "DBMS has been removed successfully.\n",
      "\n",
      "Do you want to remove course(Y/N)?:n\n",
      ".....................................................................\n",
      "MENU BAR\n",
      "1.Add couse\n",
      "2.Show course list\n",
      "3.Remove or Unenroll\n",
      "4.Exit\n",
      "\n",
      "Choose your option:2\n",
      ".....................................................................\n",
      "Your avilable courses are shown bellow\n",
      "1 ) AI\n",
      "2 ) Math\n",
      "3 ) English\n",
      "4 ) Networking\n",
      "5 ) Compiler\n",
      "6 ) Simulation\n",
      ".....................................................................\n",
      "MENU BAR\n",
      "1.Add couse\n",
      "2.Show course list\n",
      "3.Remove or Unenroll\n",
      "4.Exit\n",
      "\n",
      "Choose your option:5\n",
      ".....................................................................\n",
      "Invalid Choice! Please try again.\n",
      ".....................................................................\n",
      "MENU BAR\n",
      "1.Add couse\n",
      "2.Show course list\n",
      "3.Remove or Unenroll\n",
      "4.Exit\n",
      "\n",
      "Choose your option:4\n",
      ".....................................................................\n",
      "Goodbye!\n"
     ]
    }
   ],
   "source": [
    "CoureList = []\n",
    "def line():\n",
    "  print('.....................................................................')\n",
    "\n",
    "def show_menu():\n",
    "  line()\n",
    "  print('MENU BAR')\n",
    "  print('1.Add couse\\n2.Show course list\\n3.Remove or Unenroll\\n4.Exit\\n')\n",
    "  return int(input(\"Choose your option:\"))\n",
    "  \n",
    "\n",
    "while True:\n",
    "  choice = show_menu()\n",
    "  line()\n",
    "  if choice == 1:\n",
    "    while True:\n",
    "      ch = input(\"Do you want to add course(Y/N)?:\")\n",
    "      if ch.upper() == 'Y':\n",
    "        CoureList.append(input('Enter your course name:'))\n",
    "        print('Your course has been added successfully.\\n')\n",
    "      elif ch.upper() == 'N':\n",
    "        break\n",
    "      else:\n",
    "        print(\"Invalid! Try again.\")\n",
    "  \n",
    "  elif choice == 2:\n",
    "    if len(CoureList) == 0:\n",
    "       print(\"Your Course List is empty. Please add your course\")\n",
    "    else:\n",
    "      k = 1\n",
    "      print(\"Your avilable courses are shown bellow\")\n",
    "      for i in CoureList:\n",
    "        print(str(k),')',i)\n",
    "        k+=1\n",
    "    \n",
    "  elif choice == 3:\n",
    "    if len(CoureList) == 0:\n",
    "      print(\"Sorry! Your list is empty.\")\n",
    "\n",
    "    else:                                                 \n",
    "        while True:\n",
    "          ch = input(\"Do you want to remove course(Y/N)?:\")\n",
    "          if ch.upper() == 'Y':\n",
    "            cn = input('Please, Enter removal course name:')\n",
    "            if CoureList.count(cn):\n",
    "                CoureList.remove(cn)\n",
    "                print(cn,'has been removed successfully.\\n')\n",
    "            else:\n",
    "              print(\"Sorry! The course name dose not matched!\")\n",
    "\n",
    "          elif ch.upper() == 'N':\n",
    "            break\n",
    "          else:\n",
    "            print(\"Invalid! Try again.\")\n",
    "\n",
    "  elif choice == 4:\n",
    "     print('Goodbye!')\n",
    "     break\n",
    "  else:\n",
    "    print('Invalid Choice! Please try again.')\n",
    "  "
   ]
  },
  {
   "cell_type": "markdown",
   "metadata": {
    "id": "2n6EngtxIlm4"
   },
   "source": [
    "# <font color='red'>The work that have been shown in class"
   ]
  },
  {
   "cell_type": "code",
   "execution_count": 2,
   "metadata": {
    "colab": {
     "base_uri": "https://localhost:8080/"
    },
    "id": "gZWyMYgtIGkx",
    "outputId": "b0262f30-7153-4f2b-ad94-e9c2c239c928"
   },
   "outputs": [
    {
     "name": "stdout",
     "output_type": "stream",
     "text": [
      "Hello Bangladesh\n"
     ]
    }
   ],
   "source": [
    "print(\"Hello Bangladesh\")"
   ]
  },
  {
   "cell_type": "markdown",
   "metadata": {
    "id": "lNMEoCzg_hm5"
   },
   "source": [
    "#### Creating Variables in Python"
   ]
  },
  {
   "cell_type": "code",
   "execution_count": 3,
   "metadata": {
    "colab": {
     "base_uri": "https://localhost:8080/"
    },
    "id": "wD2pgwucIaMQ",
    "outputId": "3a345d63-ab1a-463e-a4e5-7227160c25fd"
   },
   "outputs": [
    {
     "data": {
      "text/plain": [
       "int"
      ]
     },
     "execution_count": 3,
     "metadata": {},
     "output_type": "execute_result"
    }
   ],
   "source": [
    "x = 6\n",
    "type(x)"
   ]
  },
  {
   "cell_type": "code",
   "execution_count": 4,
   "metadata": {
    "colab": {
     "base_uri": "https://localhost:8080/"
    },
    "id": "_egapgj-_siV",
    "outputId": "156792ab-2863-48d3-d518-d87ee686718c"
   },
   "outputs": [
    {
     "data": {
      "text/plain": [
       "float"
      ]
     },
     "execution_count": 4,
     "metadata": {},
     "output_type": "execute_result"
    }
   ],
   "source": [
    "p = 40.89\n",
    "type(p)"
   ]
  },
  {
   "cell_type": "code",
   "execution_count": 5,
   "metadata": {
    "colab": {
     "base_uri": "https://localhost:8080/"
    },
    "id": "2y_JaLS0_4_j",
    "outputId": "6985f777-30c2-4f36-84e0-c42734b5801d"
   },
   "outputs": [
    {
     "data": {
      "text/plain": [
       "bool"
      ]
     },
     "execution_count": 5,
     "metadata": {},
     "output_type": "execute_result"
    }
   ],
   "source": [
    "b = False\n",
    "type(b)"
   ]
  },
  {
   "cell_type": "code",
   "execution_count": 6,
   "metadata": {
    "colab": {
     "base_uri": "https://localhost:8080/"
    },
    "id": "fLbF-uqU__qS",
    "outputId": "9114ffa2-e40f-423c-cc1b-d64a33044e46"
   },
   "outputs": [
    {
     "data": {
      "text/plain": [
       "str"
      ]
     },
     "execution_count": 6,
     "metadata": {},
     "output_type": "execute_result"
    }
   ],
   "source": [
    "s = 'I love Bangladesh'\n",
    "type(s)"
   ]
  },
  {
   "cell_type": "markdown",
   "metadata": {
    "id": "dhYGtzUvAMUu"
   },
   "source": [
    "#### Advanced Python Types"
   ]
  },
  {
   "cell_type": "code",
   "execution_count": 7,
   "metadata": {
    "colab": {
     "base_uri": "https://localhost:8080/"
    },
    "id": "Xq2VqL6aAHoK",
    "outputId": "36641547-a170-42d4-b930-921359f48bd6"
   },
   "outputs": [
    {
     "name": "stdout",
     "output_type": "stream",
     "text": [
      "[4, 8, 99, 40, 'Rabbani', 20.36]\n"
     ]
    }
   ],
   "source": [
    "#list data structure\n",
    "lst = [4, 8, 99, 40, 'Rabbani', 20.36]\n",
    "print(lst)"
   ]
  },
  {
   "cell_type": "code",
   "execution_count": 8,
   "metadata": {
    "colab": {
     "base_uri": "https://localhost:8080/"
    },
    "id": "YrEZ1LAvAPVx",
    "outputId": "06647b58-d1bb-4b31-e481-232a691f8c05"
   },
   "outputs": [
    {
     "name": "stdout",
     "output_type": "stream",
     "text": [
      "4 8 99 40 Rabbani 20.36 "
     ]
    }
   ],
   "source": [
    "for i in lst:\n",
    "  print(i,end=\" \")"
   ]
  },
  {
   "cell_type": "code",
   "execution_count": 9,
   "metadata": {
    "colab": {
     "base_uri": "https://localhost:8080/"
    },
    "id": "WnUjiMZXAmik",
    "outputId": "acf73360-23ec-48c5-d148-83f5e80bbdbd"
   },
   "outputs": [
    {
     "name": "stdout",
     "output_type": "stream",
     "text": [
      "[4, 8, 99, 40, 'Rabbani', 20.36]\n"
     ]
    }
   ],
   "source": [
    "print(lst[:])"
   ]
  },
  {
   "cell_type": "code",
   "execution_count": 10,
   "metadata": {
    "colab": {
     "base_uri": "https://localhost:8080/"
    },
    "id": "RQuDTDGkAswa",
    "outputId": "71658f75-178e-4205-a54d-3045428aff1a"
   },
   "outputs": [
    {
     "name": "stdout",
     "output_type": "stream",
     "text": [
      "[99, 40, 'Rabbani', 20.36]\n"
     ]
    }
   ],
   "source": [
    "print(lst[2:])"
   ]
  },
  {
   "cell_type": "code",
   "execution_count": 11,
   "metadata": {
    "colab": {
     "base_uri": "https://localhost:8080/"
    },
    "id": "HjkGLsS1Awkq",
    "outputId": "d3fa816e-a0da-4ebb-c77c-0b7fad7913f6"
   },
   "outputs": [
    {
     "name": "stdout",
     "output_type": "stream",
     "text": [
      "[4, 8, 99, 40, 'Rabbani']\n"
     ]
    }
   ],
   "source": [
    "print(lst[:-1])"
   ]
  },
  {
   "cell_type": "code",
   "execution_count": 12,
   "metadata": {
    "colab": {
     "base_uri": "https://localhost:8080/"
    },
    "id": "x_xjzanCAz-i",
    "outputId": "573bd2a3-a641-4b37-f55a-e8ba6f4a4ae4"
   },
   "outputs": [
    {
     "name": "stdout",
     "output_type": "stream",
     "text": [
      "[8, 40, 20.36]\n"
     ]
    }
   ],
   "source": [
    "print(lst[1:len(lst):2])"
   ]
  },
  {
   "cell_type": "markdown",
   "metadata": {
    "id": "Qt0LZTHwBkP_"
   },
   "source": [
    "#### Advanced Printing"
   ]
  },
  {
   "cell_type": "code",
   "execution_count": 13,
   "metadata": {
    "colab": {
     "base_uri": "https://localhost:8080/"
    },
    "id": "eVEdWxgxBQ0i",
    "outputId": "a5cb719b-fd22-4665-b08d-f342fac84a23"
   },
   "outputs": [
    {
     "name": "stdout",
     "output_type": "stream",
     "text": [
      "Arif is a student of DIU, He 25 years old his cgpa is 3.88\n"
     ]
    }
   ],
   "source": [
    "s = 'student'\n",
    "age = 25\n",
    "cgpa = 3.88\n",
    "\n",
    "print(\"Arif is a %s of DIU, He %s years old his cgpa is %s\" %(s, age, cgpa))"
   ]
  },
  {
   "cell_type": "markdown",
   "metadata": {
    "id": "GwujKSQVCfjz"
   },
   "source": [
    "#### Conditional Statement"
   ]
  },
  {
   "cell_type": "code",
   "execution_count": 14,
   "metadata": {
    "colab": {
     "base_uri": "https://localhost:8080/"
    },
    "id": "_6r_2hAZBnsq",
    "outputId": "f60be2aa-a85e-458b-a9a5-d534f2abb779"
   },
   "outputs": [
    {
     "name": "stdout",
     "output_type": "stream",
     "text": [
      "The value i is 5 and the value of m is less than 15\n"
     ]
    }
   ],
   "source": [
    "n = 5\n",
    "m = 10\n",
    "if n==5 and m<15:\n",
    "  print(\"The value i is 5 and the value of m is less than 15\")\n",
    "\n",
    "elif n>4 and m>4:\n",
    "  print(\"Both n and m is greater than 4\")\n",
    "\n",
    "else:\n",
    "  print(\"Both n amd m is less than 4\")"
   ]
  },
  {
   "cell_type": "markdown",
   "metadata": {
    "id": "DKyVbMV7EHGQ"
   },
   "source": [
    "#### Loops\n"
   ]
  },
  {
   "cell_type": "code",
   "execution_count": 15,
   "metadata": {
    "colab": {
     "base_uri": "https://localhost:8080/"
    },
    "id": "2ykbQlr1EMCx",
    "outputId": "dbf8202b-136b-4832-925e-5b97ecdfabde"
   },
   "outputs": [
    {
     "name": "stdout",
     "output_type": "stream",
     "text": [
      "2 4 6 10 22 "
     ]
    }
   ],
   "source": [
    "x = [1, 2, 3, 4, 6, 10, 22]\n",
    "for i in x:\n",
    "  if i%2==0:\n",
    "    print(i,end=\" \")"
   ]
  },
  {
   "cell_type": "code",
   "execution_count": 16,
   "metadata": {
    "colab": {
     "base_uri": "https://localhost:8080/"
    },
    "id": "SaFPb3M7EdD7",
    "outputId": "0080fd74-f787-4b91-db2d-3d5c0d546ca4"
   },
   "outputs": [
    {
     "name": "stdout",
     "output_type": "stream",
     "text": [
      "Enter a number:20\n",
      "1\n",
      "3\n",
      "5\n",
      "7\n",
      "9\n",
      "11\n",
      "13\n",
      "15\n",
      "17\n",
      "19\n"
     ]
    }
   ],
   "source": [
    "n = int(input(\"Enter a number:\"))\n",
    "for num in range(n):\n",
    "  if num%2:\n",
    "    print(num)"
   ]
  },
  {
   "cell_type": "code",
   "execution_count": 17,
   "metadata": {
    "colab": {
     "base_uri": "https://localhost:8080/"
    },
    "id": "Ha4chkwoEwQy",
    "outputId": "6a41405f-ba34-45e6-8d82-5cc2d6a1a94f"
   },
   "outputs": [
    {
     "name": "stdout",
     "output_type": "stream",
     "text": [
      "[25, 81, 121, 2601, 2025, 2209, 169, 961]\n",
      "\n",
      "Ater removing 6th element: [2, 5, 6, 8, 9, 12, 24, 51, 45, 47, 12, 13, 31]\n"
     ]
    }
   ],
   "source": [
    "lst = [2,5,6,8,9,11,12,24,51,45,47,12,13,31]\n",
    "\n",
    "print([x**2 for x in lst if x%2])\n",
    "print()\n",
    "\n",
    "\n",
    "lst.remove(lst[5])\n",
    "print('Ater removing 6th element:',lst)\n"
   ]
  },
  {
   "cell_type": "code",
   "execution_count": 18,
   "metadata": {
    "colab": {
     "base_uri": "https://localhost:8080/"
    },
    "id": "pgKTHgEbX7pZ",
    "outputId": "605fe95f-e95c-4586-82bc-995e324148d6"
   },
   "outputs": [
    {
     "name": "stdout",
     "output_type": "stream",
     "text": [
      "[10, 20, 45]\n",
      "Enter appended value:25\n",
      "Enter appended value:36\n",
      "Enter appended value:45\n",
      "Enter appended value:rabbani\n",
      "Enter appended value:book\n",
      "\n",
      "[10, 20, 45, '25', '36', '45', 'rabbani', 'book']\n"
     ]
    }
   ],
   "source": [
    "lst2 = [10, 20, 45, 69, 'k', 'Habib']\n",
    "\n",
    "for i in range(3):\n",
    "  lst2.pop()\n",
    "print(lst2)\n",
    "3\n",
    "for i in range(5):\n",
    "  lst2.append(input(\"Enter appended value:\"))\n",
    "\n",
    "print()\n",
    "print(lst2)\n"
   ]
  },
  {
   "cell_type": "code",
   "execution_count": 19,
   "metadata": {
    "colab": {
     "base_uri": "https://localhost:8080/"
    },
    "id": "2IZ4kS3iHdHg",
    "outputId": "ed481eee-70b4-4b3b-ca1d-0078fdf6f794"
   },
   "outputs": [
    {
     "name": "stdout",
     "output_type": "stream",
     "text": [
      "{1, 4, 5, 6, 'Rabbani', 63}\n"
     ]
    }
   ],
   "source": [
    "sett = {1, 4,5,63,6,5, 'Rabbani'}\n",
    "print(sett)"
   ]
  },
  {
   "cell_type": "code",
   "execution_count": 20,
   "metadata": {
    "colab": {
     "base_uri": "https://localhost:8080/"
    },
    "id": "eiQue2aAHm6K",
    "outputId": "0ebc0c28-3955-40ea-a7f1-039661d617f6"
   },
   "outputs": [
    {
     "name": "stdout",
     "output_type": "stream",
     "text": [
      "117649 103823 91125 79507 68921 59319 50653 42875 35937 29791 24389 19683 15625 12167 9261 6859 4913 3375 2197 1331 729 343 125 27 1 "
     ]
    }
   ],
   "source": [
    "n = 50\n",
    "while n:\n",
    "  if n%2:\n",
    "    print(n**3, end=\" \")\n",
    "  n-=1"
   ]
  },
  {
   "cell_type": "code",
   "execution_count": 21,
   "metadata": {
    "colab": {
     "base_uri": "https://localhost:8080/"
    },
    "id": "iZPjuLC8IA0v",
    "outputId": "27551e8f-6841-4b45-f683-b2b3ecbaff48"
   },
   "outputs": [
    {
     "name": "stdout",
     "output_type": "stream",
     "text": [
      "Enter a number:56\n",
      "Sum of digits =  11\n"
     ]
    }
   ],
   "source": [
    "n = int(input(\"Enter a number:\"))\n",
    "m = n\n",
    "s=0\n",
    "digit=0\n",
    "while m:\n",
    "  rem = m%10\n",
    "  s += rem\n",
    "  m = m//10\n",
    "print(\"Sum of digits = \",s)"
   ]
  },
  {
   "cell_type": "markdown",
   "metadata": {
    "id": "7jB5v-J5Ua_7"
   },
   "source": [
    "#### Creating Functions\n"
   ]
  },
  {
   "cell_type": "code",
   "execution_count": 22,
   "metadata": {
    "colab": {
     "base_uri": "https://localhost:8080/"
    },
    "id": "ThX4Ne8nUhXt",
    "outputId": "5fd451ca-5b17-481e-f0c0-9b90c037f1c2"
   },
   "outputs": [
    {
     "name": "stdout",
     "output_type": "stream",
     "text": [
      "Enter a number:321\n",
      "321 is not a plandrome number\n"
     ]
    }
   ],
   "source": [
    "def CheckPlandrome(n):\n",
    "  rev = 0\n",
    "  while(n>0):\n",
    "    digit = n%10\n",
    "    rev = rev*10+digit\n",
    "    n = n//10\n",
    "  return rev\n",
    "\n",
    "n = int(input('Enter a number:'))\n",
    "if n == CheckPlandrome(n):\n",
    "  print(\"%s is a plandrome number\" %(n))\n",
    "\n",
    "else:\n",
    "  print(\"%s is not a plandrome number\" %(n))"
   ]
  },
  {
   "cell_type": "code",
   "execution_count": 23,
   "metadata": {
    "colab": {
     "base_uri": "https://localhost:8080/"
    },
    "id": "9O9bMDMhWR0b",
    "outputId": "0b4e19d2-f3f0-4d38-e4b6-195d7da61dfa"
   },
   "outputs": [
    {
     "name": "stdout",
     "output_type": "stream",
     "text": [
      "Enter a number:50\n",
      "Sum of Numbers is :  1225\n"
     ]
    }
   ],
   "source": [
    "def SumOfNumber(n):\n",
    "  return (n*(n-1))//2\n",
    "\n",
    "\n",
    "x = int(input(\"Enter a number:\"))\n",
    "print(\"Sum of Numbers is : \", SumOfNumber(x))"
   ]
  },
  {
   "cell_type": "code",
   "execution_count": null,
   "metadata": {
    "id": "_fuYALDGXGlM"
   },
   "outputs": [],
   "source": []
  },
  {
   "cell_type": "markdown",
   "metadata": {
    "id": "IKTaXx09aP2m"
   },
   "source": [
    "#### Dictionary"
   ]
  },
  {
   "cell_type": "code",
   "execution_count": 24,
   "metadata": {
    "colab": {
     "base_uri": "https://localhost:8080/"
    },
    "id": "n-ngEetwamPC",
    "outputId": "a9a2f159-7728-41ec-ddb8-a4bd7877a819"
   },
   "outputs": [
    {
     "name": "stdout",
     "output_type": "stream",
     "text": [
      "{'Name': ['Rabbani', 'Habib', 'Monir', 'Rifat'], 'Age': [25, 22, 23, 24], 'CGPA': [3.5, 3.78, 3.98, 3.0]}\n"
     ]
    }
   ],
   "source": [
    "struent = {\n",
    "    'Name' : [\"Rabbani\", \"Habib\", \"Monir\", \"Rifat\"],\n",
    "    'Age' : [25, 22, 23, 24],\n",
    "    'CGPA' : [3.5, 3.78, 3.98, 3.00]\n",
    "}\n",
    "\n",
    "print(struent)"
   ]
  },
  {
   "cell_type": "code",
   "execution_count": 25,
   "metadata": {
    "colab": {
     "base_uri": "https://localhost:8080/"
    },
    "id": "9x7jGkaBbUxU",
    "outputId": "75476cf7-043d-479d-bc56-ed0804b4258b"
   },
   "outputs": [
    {
     "name": "stdout",
     "output_type": "stream",
     "text": [
      "      Name  Age  CGPA\n",
      "0  Rabbani   25  3.50\n",
      "1    Habib   22  3.78\n",
      "2    Monir   23  3.98\n",
      "3    Rifat   24  3.00\n"
     ]
    }
   ],
   "source": [
    "import pandas as pd\n",
    "student = {\n",
    "    'Name' : [\"Rabbani\", \"Habib\", \"Monir\", \"Rifat\"],\n",
    "    'Age' : [25, 22, 23, 24],\n",
    "    'CGPA' : [3.5, 3.78, 3.98, 3.00]\n",
    "}\n",
    "df = pd.DataFrame(student)\n",
    "print(df)"
   ]
  },
  {
   "cell_type": "code",
   "execution_count": 26,
   "metadata": {
    "colab": {
     "base_uri": "https://localhost:8080/"
    },
    "id": "DIVyUECObgoz",
    "outputId": "20cefb90-b250-4f4a-a6da-469269add942"
   },
   "outputs": [
    {
     "name": "stdout",
     "output_type": "stream",
     "text": [
      "0    25\n",
      "1    22\n",
      "2    23\n",
      "3    24\n",
      "Name: Age, dtype: int64\n"
     ]
    }
   ],
   "source": [
    "print(df.Age)"
   ]
  },
  {
   "cell_type": "code",
   "execution_count": 27,
   "metadata": {
    "colab": {
     "base_uri": "https://localhost:8080/"
    },
    "id": "IrgzQCjjcjbe",
    "outputId": "501c7ec3-4b0e-4077-8c1b-263e9778eaac"
   },
   "outputs": [
    {
     "name": "stdout",
     "output_type": "stream",
     "text": [
      "23.5\n"
     ]
    }
   ],
   "source": [
    "print(df.Age.mean())"
   ]
  },
  {
   "cell_type": "code",
   "execution_count": 28,
   "metadata": {
    "colab": {
     "base_uri": "https://localhost:8080/"
    },
    "id": "OI78Dzy-cpyo",
    "outputId": "1e175c79-3c2d-4c7f-89b6-bd6b37a14e63"
   },
   "outputs": [
    {
     "name": "stdout",
     "output_type": "stream",
     "text": [
      "3.565\n"
     ]
    }
   ],
   "source": [
    "print(df.CGPA.mean())"
   ]
  },
  {
   "cell_type": "code",
   "execution_count": null,
   "metadata": {
    "id": "KcEa2ZSTdRSx"
   },
   "outputs": [],
   "source": []
  }
 ],
 "metadata": {
  "colab": {
   "name": "AILab-Task03.ipynb",
   "provenance": []
  },
  "kernelspec": {
   "display_name": "Python 3",
   "language": "python",
   "name": "python3"
  },
  "language_info": {
   "codemirror_mode": {
    "name": "ipython",
    "version": 3
   },
   "file_extension": ".py",
   "mimetype": "text/x-python",
   "name": "python",
   "nbconvert_exporter": "python",
   "pygments_lexer": "ipython3",
   "version": "3.8.5"
  }
 },
 "nbformat": 4,
 "nbformat_minor": 1
}
