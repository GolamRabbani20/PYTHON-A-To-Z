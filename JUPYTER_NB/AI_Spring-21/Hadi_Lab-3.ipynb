{
 "cells": [
  {
   "cell_type": "code",
   "execution_count": null,
   "metadata": {
    "colab": {
     "base_uri": "https://localhost:8080/"
    },
    "id": "r382HR138IMF",
    "outputId": "d7ab21c8-0aa3-4f8d-dd66-82c754637c2b"
   },
   "outputs": [
    {
     "name": "stdout",
     "output_type": "stream",
     "text": [
      "---------------------------\n",
      "MENU\n",
      "---------------------------\n",
      "1. Add Course\n",
      "2. Course\n",
      "3. Course list\n",
      "4. Exit\n",
      "---------------------------\n",
      "Enter your choice: 3\n",
      "Your enrolled course list:\n",
      "---------------------------\n",
      "MENU\n",
      "---------------------------\n",
      "1. Add Course\n",
      "2. Course\n",
      "3. Course list\n",
      "4. Exit\n",
      "---------------------------\n",
      "Enter your choice: 2\n",
      "Which course do you want to unenroll kok\n",
      "Could not find this course kok\n",
      "---------------------------\n",
      "MENU\n",
      "---------------------------\n",
      "1. Add Course\n",
      "2. Course\n",
      "3. Course list\n",
      "4. Exit\n",
      "---------------------------\n",
      "Enter your choice: 2\n",
      "Which course do you want to unenroll ll\n",
      "Could not find this course ll\n",
      "---------------------------\n",
      "MENU\n",
      "---------------------------\n",
      "1. Add Course\n",
      "2. Course\n",
      "3. Course list\n",
      "4. Exit\n",
      "---------------------------\n"
     ]
    }
   ],
   "source": [
    "data = []\n",
    "choice = 'random'\n",
    "def line():\n",
    "    print('---------------------------')\n",
    "\n",
    "def show_menu():\n",
    "    line()\n",
    "    print('MENU')\n",
    "    line()\n",
    "    print('1. Add Course')\n",
    "    print('2. Course')\n",
    "    print('3. Course list')\n",
    "    print('4. Exit')\n",
    "    line()\n",
    "    choice = input('Enter your choice: ')\n",
    "    return choice\n",
    "\n",
    "while choice != '4':\n",
    "    choice = show_menu()\n",
    "    if choice == '1':\n",
    "        item = input('What course should be enrolled ')\n",
    "        data.append(item)\n",
    "        print('Course', item, 'added')\n",
    "    elif choice == '2':\n",
    "        item = input('Which course do you want to unenroll ')\n",
    "        if item in data:\n",
    "            data.remove(item)\n",
    "            print('Course removed', item)\n",
    "        else:\n",
    "            print('Could not find this course', item)\n",
    "    elif choice == '3':\n",
    "        print('Your enrolled course list:')\n",
    "        for item in data:\n",
    "            print(item)\n",
    "    elif choice == '4':\n",
    "        print('Goodbye!')\n",
    "    else:\n",
    "        print('Please enter one of 1, 2, 3 or 4')"
   ]
  },
  {
   "cell_type": "code",
   "execution_count": null,
   "metadata": {
    "id": "OIvnz-fbFJGB"
   },
   "outputs": [],
   "source": []
  },
  {
   "cell_type": "code",
   "execution_count": null,
   "metadata": {},
   "outputs": [],
   "source": []
  }
 ],
 "metadata": {
  "colab": {
   "authorship_tag": "ABX9TyP8VtcKaZqO93xTLwLFdOEY",
   "name": "Lab-3.ipynb",
   "provenance": []
  },
  "kernelspec": {
   "display_name": "Python 3",
   "language": "python",
   "name": "python3"
  },
  "language_info": {
   "codemirror_mode": {
    "name": "ipython",
    "version": 3
   },
   "file_extension": ".py",
   "mimetype": "text/x-python",
   "name": "python",
   "nbconvert_exporter": "python",
   "pygments_lexer": "ipython3",
   "version": "3.8.5"
  }
 },
 "nbformat": 4,
 "nbformat_minor": 1
}
