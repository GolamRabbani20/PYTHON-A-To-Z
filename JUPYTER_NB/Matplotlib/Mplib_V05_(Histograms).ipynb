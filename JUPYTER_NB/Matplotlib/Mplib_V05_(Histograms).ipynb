{
 "cells": [
  {
   "cell_type": "markdown",
   "id": "military-boxing",
   "metadata": {},
   "source": [
    "# <font color=\"red\">Histograms</font>"
   ]
  },
  {
   "cell_type": "code",
   "execution_count": 1,
   "id": "pleasant-optimization",
   "metadata": {},
   "outputs": [],
   "source": [
    "import matplotlib.pyplot as plt\n",
    "%matplotlib inline "
   ]
  },
  {
   "cell_type": "code",
   "execution_count": 27,
   "id": "dried-settle",
   "metadata": {},
   "outputs": [
    {
     "data": {
      "text/plain": [
       "(array([5., 2., 3.]),\n",
       " array([ 80, 100, 125, 150]),\n",
       " <BarContainer object of 3 artists>)"
      ]
     },
     "execution_count": 27,
     "metadata": {},
     "output_type": "execute_result"
    },
    {
     "data": {
      "image/png": "[encoded data removed]",
      "text/plain": [
       "<Figure size 432x288 with 1 Axes>"
      ]
     },
     "metadata": {
      "needs_background": "light"
     },
     "output_type": "display_data"
    }
   ],
   "source": [
    "blood_suger = [113, 85, 90, 150, 149, 88, 93, 115, 80, 77, 129]\n",
    "plt.hist(blood_suger,bins=[80,100,125,150], rwidth=0.95, color=\"g\" , orientation='horizontal') #histtype='step'   \n",
    "                                                                    #orientation='horizontal' By defult orientation = 'vertical'"
   ]
  },
  {
   "cell_type": "code",
   "execution_count": 32,
   "id": "italic-following",
   "metadata": {},
   "outputs": [
    {
     "data": {
      "image/png": "[encoded data removed]",
      "text/plain": [
       "<Figure size 432x288 with 1 Axes>"
      ]
     },
     "metadata": {
      "needs_background": "light"
     },
     "output_type": "display_data"
    }
   ],
   "source": [
    "blood_sugur_men = [113, 85, 90, 150, 149, 88, 93, 115, 80, 77, 129]\n",
    "blood_sugur_women = [67, 98, 89, 120, 133, 150, 84, 69, 89, 79, 120, 112, 100]\n",
    "plt.xlabel(\"sugur_range\")\n",
    "plt.ylabel(\"Total no of patients\")\n",
    "plt.title(\"Blood sugur analysis\")\n",
    "plt.hist([blood_sugur_men, blood_sugur_women], bins=[80, 100, 125, 150], rwidth=0.95, color=['green', 'red'],\n",
    "         label=[\"Men\", \"Women\"])   #orientation='horizontal' By defult orientation = 'vertical'\n",
    "plt.legend()\n",
    "#plt.savefig(\"D:\\Matplotlib_figure\\Histograms2.pdf\", bbox_inches='tight', pad_inches=2, transparent=True)"
   ]
  },
  {
   "cell_type": "code",
   "execution_count": null,
   "id": "foster-nomination",
   "metadata": {},
   "outputs": [],
   "source": []
  }
 ],
 "metadata": {
  "kernelspec": {
   "display_name": "Python 3",
   "language": "python",
   "name": "python3"
  },
  "language_info": {
   "codemirror_mode": {
    "name": "ipython",
    "version": 3
   },
   "file_extension": ".py",
   "mimetype": "text/x-python",
   "name": "python",
   "nbconvert_exporter": "python",
   "pygments_lexer": "ipython3",
   "version": "3.8.2"
  }
 },
 "nbformat": 4,
 "nbformat_minor": 5
}
